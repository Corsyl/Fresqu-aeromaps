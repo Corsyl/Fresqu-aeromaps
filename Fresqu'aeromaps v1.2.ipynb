{
 "cells": [
  {
   "cell_type": "markdown",
   "id": "a84b2401",
   "metadata": {},
   "source": [
    "# Fresqu'AéroMAPS - outil de simulation des choix de solution\n",
    "\n",
    "### Ce notebook a pour but de simuler les choix des différnets groupes de l'atelier lors de la partie finale de l'atelier Fresqu'aéro. Il se repose sur l'outil AéroMAPS :\n",
    "\n",
    "\n",
    "### Planès, T., Delbecq, S., Salgas, A. (2023). AeroMAPS: a framework for performing multidisciplinary assessment of prospective scenarios for air transport. Submitted to Journal of Open Aviation Science.\n",
    "\n",
    "Pour être sûr que les graphiques sont cohérents avec les choix des groupes, n'oubliez pas d'exécuter les cellules dans l'ordre, et de ré-exécuter les cellules en aval à chaque modification ! "
   ]
  },
  {
   "cell_type": "markdown",
   "id": "c802a03d",
   "metadata": {},
   "source": [
    "## Quelques chiffres importants pour comprendre le scénario de référence\n",
    "\n",
    "Les résultats des groupes seront ensuite comparés avec un scénario de référence, qui correspond à la tendance actuelle de l'industrie. Quantitativement, les chiffres veinnent notamment du scénario Airbus :\n",
    "\n",
    "* La croissance du trafic est de 3% par an, constante.\n",
    "* Le renouvellement de la flotte a une période de 20 ans.\n",
    "* L'hydrogène arrive sur le marché en 2035, sur le court courrier.\n",
    "* Le déploiement des SAFs respectent le plan ReFuelEU, avec notamment 35% de bioSAF + 35% de eSAF en 2050.\n",
    "* Les flight operations font gagner environ 8% d'effciacité finale en 2050.\n",
    "* L'amélioration incrémentale technologique ets de 0,5% par an.\n",
    "* L'allocation des ressources pour l'aérien est conservé par rapport à l'actuel."
   ]
  },
  {
   "cell_type": "markdown",
   "id": "2eaf9b34",
   "metadata": {},
   "source": [
    "## Mode d'emploi\n",
    "\n",
    "Il suffit d'exécuter la cellule de code ci-dessous. Elle prend quelques minutes à se mettre en place, il est préférable de la lancer pendant la réflexion des joueurs, pour éviter de les faire attendre ensuite. \n",
    "Ensuite, si vous avez plus d'un groupe, choisissez le mode 2 ou 3 groupes grâce aux cases à cocher. Pas de panique, elles n'affectent pas encore l'affichage. \n",
    "Puis cohez les choix de cartes pour chaque groupes.\n",
    "Et enfin appuyez sur le bouton \"Update\" pour afficher les changements sur les différents graphiques. Le calcul peut prendre un peu de temps.\n"
   ]
  },
  {
   "cell_type": "code",
   "execution_count": 1,
   "id": "bd7d1bc4",
   "metadata": {
    "scrolled": false
   },
   "outputs": [
    {
     "ename": "SyntaxError",
     "evalue": "invalid syntax. Perhaps you forgot a comma? (Setup_des_graphs.py, line 52)",
     "output_type": "error",
     "traceback": [
      "Traceback \u001b[1;36m(most recent call last)\u001b[0m:\n",
      "\u001b[0m  File \u001b[0;32mC:\\Program Files\\Python\\lib\\site-packages\\IPython\\core\\interactiveshell.py:3577\u001b[0m in \u001b[0;35mrun_code\u001b[0m\n    exec(code_obj, self.user_global_ns, self.user_ns)\u001b[0m\n",
      "\u001b[1;36m  File \u001b[1;32m~\\AppData\\Local\\Temp\\ipykernel_4832\\738704909.py:5\u001b[1;36m\n\u001b[1;33m    from Setup_des_graphs import plot_traj\u001b[1;36m\n",
      "\u001b[1;36m  File \u001b[1;32m~\\Documents\\Notebook fresqu'aero\\Setup_des_graphs.py:52\u001b[1;36m\u001b[0m\n\u001b[1;33m    labels=[\"Compensation carbone\",\"Emissions totales\"]\u001b[0m\n\u001b[1;37m           ^\u001b[0m\n\u001b[1;31mSyntaxError\u001b[0m\u001b[1;31m:\u001b[0m invalid syntax. Perhaps you forgot a comma?\n"
     ]
    },
    {
     "ename": "SyntaxError",
     "evalue": "invalid syntax. Perhaps you forgot a comma? (Setup_des_graphs.py, line 52)",
     "output_type": "error",
     "traceback": [
      "Traceback \u001b[1;36m(most recent call last)\u001b[0m:\n",
      "\u001b[0m  File \u001b[0;32mC:\\Program Files\\Python\\lib\\site-packages\\IPython\\core\\interactiveshell.py:3577\u001b[0m in \u001b[0;35mrun_code\u001b[0m\n    exec(code_obj, self.user_global_ns, self.user_ns)\u001b[0m\n",
      "\u001b[0m  Cell \u001b[0;32mIn[1], line 1\u001b[0m\n    get_ipython().run_line_magic('run', 'run_graph.ipynb')\u001b[0m\n",
      "\u001b[0m  File \u001b[0;32mC:\\Program Files\\Python\\lib\\site-packages\\IPython\\core\\interactiveshell.py:2480\u001b[0m in \u001b[0;35mrun_line_magic\u001b[0m\n    result = fn(*args, **kwargs)\u001b[0m\n",
      "\u001b[0m  File \u001b[0;32mC:\\Program Files\\Python\\lib\\site-packages\\IPython\\core\\magics\\execution.py:737\u001b[0m in \u001b[0;35mrun\u001b[0m\n    self.shell.safe_execfile_ipy(filename, raise_exceptions=True)\u001b[0m\n",
      "\u001b[0m  File \u001b[0;32mC:\\Program Files\\Python\\lib\\site-packages\\IPython\\core\\interactiveshell.py:3005\u001b[0m in \u001b[0;35msafe_execfile_ipy\u001b[0m\n    result.raise_error()\u001b[0m\n",
      "\u001b[0m  File \u001b[0;32mC:\\Program Files\\Python\\lib\\site-packages\\IPython\\core\\interactiveshell.py:308\u001b[0m in \u001b[0;35mraise_error\u001b[0m\n    raise self.error_in_exec\u001b[0m\n",
      "\u001b[0m  File \u001b[0;32mC:\\Program Files\\Python\\lib\\site-packages\\IPython\\core\\interactiveshell.py:3577\u001b[0m in \u001b[0;35mrun_code\u001b[0m\n    exec(code_obj, self.user_global_ns, self.user_ns)\u001b[0m\n",
      "\u001b[1;36m  File \u001b[1;32m~\\AppData\\Local\\Temp\\ipykernel_4832\\738704909.py:5\u001b[1;36m\n\u001b[1;33m    from Setup_des_graphs import plot_traj\u001b[1;36m\n",
      "\u001b[1;36m  File \u001b[1;32m~\\Documents\\Notebook fresqu'aero\\Setup_des_graphs.py:52\u001b[1;36m\u001b[0m\n\u001b[1;33m    labels=[\"Compensation carbone\",\"Emissions totales\"]\u001b[0m\n\u001b[1;37m           ^\u001b[0m\n\u001b[1;31mSyntaxError\u001b[0m\u001b[1;31m:\u001b[0m invalid syntax. Perhaps you forgot a comma?\n"
     ]
    }
   ],
   "source": [
    "%run run_graph.ipynb\n",
    "grid"
   ]
  },
  {
   "cell_type": "code",
   "execution_count": null,
   "id": "4b5dd7db",
   "metadata": {},
   "outputs": [],
   "source": []
  }
 ],
 "metadata": {
  "kernelspec": {
   "display_name": "Python 3 (ipykernel)",
   "language": "python",
   "name": "python3"
  },
  "language_info": {
   "codemirror_mode": {
    "name": "ipython",
    "version": 3
   },
   "file_extension": ".py",
   "mimetype": "text/x-python",
   "name": "python",
   "nbconvert_exporter": "python",
   "pygments_lexer": "ipython3",
   "version": "3.10.9"
  }
 },
 "nbformat": 4,
 "nbformat_minor": 5
}
