{
 "cells": [
  {
   "cell_type": "markdown",
   "id": "a84b2401",
   "metadata": {},
   "source": [
    "# Fresqu'AéroMAPS - outil de simulation des choix de solution\n",
    "\n",
    "### Ce notebook a pour but de simuler les choix des différnets groupes de l'atelier lors de la partie finale de l'atelier Fresqu'aéro. Il se repose sur l'outil AéroMAPS :\n",
    "\n",
    "\n",
    "### Planès, T., Delbecq, S., Salgas, A. (2023). AeroMAPS: a framework for performing multidisciplinary assessment of prospective scenarios for air transport. Submitted to Journal of Open Aviation Science.\n"
   ]
  },
  {
   "cell_type": "markdown",
   "id": "c802a03d",
   "metadata": {},
   "source": [
    "## Quelques chiffres importants pour comprendre le scénario de référence\n",
    "\n",
    "Les résultats des groupes seront ensuite comparés avec un scénario de référence, qui correspond à la tendance actuelle de l'industrie. Quantitativement, les chiffres veinnent notamment du scénario Airbus :\n",
    "\n",
    "* La croissance du trafic est de 3% par an, constante et conforme aux prévisions de l'OACI.\n",
    "* Le renouvellement de la flotte a une période de 20 ans.\n",
    "* Il n'y a pas de technologie disruptive (électrique ou hydrogène)\n",
    "* Les flight operations font gagner environ 8% d'effciacité en 2050.\n",
    "* L'amélioration incrémentale technologique est de 0,5% par an, la tendance depuis une vingtaine d'année, et conforme aux prévisions Airbus.\n",
    "* L'allocation des ressources pour l'aérien est conservée par rapport à l'actuelle répartition. On pourrait discuter cette répartition."
   ]
  },
  {
   "cell_type": "markdown",
   "id": "2eaf9b34",
   "metadata": {},
   "source": [
    "## Mode d'emploi\n",
    "\n",
    "Il suffit d'exécuter la cellule de code ci-dessous. Elle prend quelques minutes à se mettre en place, il est préférable de la lancer pendant la réflexion des joueurs, pour éviter de les faire attendre ensuite. \n",
    "\n",
    "Ensuite, si vous avez plus d'un groupe, choisissez le mode 2 ou 3 groupes grâce aux cases à cocher. Pas de panique, elles n'affectent pas encore l'affichage. \n",
    "\n",
    "Puis cochez les choix de cartes pour chaque groupes.\n",
    "\n",
    "Et enfin appuyez sur le bouton \"Update\" pour afficher les changements sur les différents graphiques. Le calcul peut prendre un peu de temps.\n",
    "\n",
    "Petite astuce : n'hésitez pas à dézoomer un petit peu la page (avec ctrl + molette ou ctrl + \"-\") pour bien voir les 4 graphiques à la fois. Ceux-ci se réadapteront à la taille de la page ! "
   ]
  },
  {
   "cell_type": "code",
   "execution_count": null,
   "id": "bd7d1bc4",
   "metadata": {
    "scrolled": false
   },
   "outputs": [],
   "source": [
    "%run run_graph_v2.ipynb\n",
    "grid"
   ]
  },
  {
   "cell_type": "code",
   "execution_count": null,
   "id": "4b5dd7db",
   "metadata": {},
   "outputs": [],
   "source": []
  }
 ],
 "metadata": {
  "kernelspec": {
   "display_name": "Python 3 (ipykernel)",
   "language": "python",
   "name": "python3"
  },
  "language_info": {
   "codemirror_mode": {
    "name": "ipython",
    "version": 3
   },
   "file_extension": ".py",
   "mimetype": "text/x-python",
   "name": "python",
   "nbconvert_exporter": "python",
   "pygments_lexer": "ipython3",
   "version": "3.10.9"
  }
 },
 "nbformat": 4,
 "nbformat_minor": 5
}
