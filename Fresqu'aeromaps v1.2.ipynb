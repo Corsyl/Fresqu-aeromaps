{
 "cells": [
  {
   "cell_type": "markdown",
   "id": "a84b2401",
   "metadata": {},
   "source": [
    "# Fresqu'AéroMAPS - outil de simulation des choix de solution\n",
    "\n",
    "### Ce notebook a pour but de simuler les choix des différnets groupes de l'atelier lors de la partie finale de l'atelier Fresqu'aéro. Il se repose sur l'outil AéroMAPS :\n",
    "\n",
    "\n",
    "### Planès, T., Delbecq, S., Salgas, A. (2023). AeroMAPS: a framework for performing multidisciplinary assessment of prospective scenarios for air transport. Submitted to Journal of Open Aviation Science.\n"
   ]
  },
  {
   "cell_type": "markdown",
   "id": "2eaf9b34",
   "metadata": {},
   "source": [
    "## Mode d'emploi\n",
    "\n",
    "Il suffit d'exécuter la cellule de code ci-dessous. Elle prend quelques minutes à se mettre en place, il est préférable de la lancer pendant la réflexion des joueurs, pour éviter de les faire attendre ensuite. \n",
    "\n",
    "Ensuite, si vous avez plus d'un groupe, choisissez le mode 2 ou 3 groupes grâce aux cases à cocher. Pas de panique, elles n'affectent pas encore l'affichage. \n",
    "\n",
    "Puis cochez les choix de cartes pour chaque groupes.\n",
    "\n",
    "Et enfin appuyez sur le bouton \"Update\" pour afficher les changements sur les différents graphiques. Le calcul peut prendre un peu de temps.\n",
    "\n",
    "Petite astuce : n'hésitez pas à dézoomer un petit peu la page (avec ctrl + molette ou ctrl + \"-\") pour bien voir les 4 graphiques à la fois. Ceux-ci se réadapteront à la taille de la page ! "
   ]
  },
  {
   "cell_type": "markdown",
   "id": "c802a03d",
   "metadata": {},
   "source": [
    "## Quelques chiffres importants pour comprendre le scénario de référence\n",
    "\n",
    "Les résultats des groupes seront ensuite comparés avec un scénario de référence, qui correspond à la tendance actuelle de l'industrie. Quantitativement, les chiffres veinnent notamment du scénario Airbus :\n",
    "\n",
    "* La croissance du trafic est de 3% par an, constante et conforme aux prévisions de l'OACI.\n",
    "* Le renouvellement de la flotte a une période de 20 ans.\n",
    "* Il n'y a pas de technologie disruptive avant 2050 (électrique ou hydrogène).\n",
    "* Les opérations au sol et en vol font gagner environ 8% d'efficacité en 2050.\n",
    "* L'amélioration incrémentale technologique est de 0,5% par an, la tendance depuis une vingtaine d'année, et conforme aux prévisions Global Market Forecast 2024 Airbus.\n",
    "* L'allocation des ressources pour l'aérien est conservée par rapport à l'actuelle répartition. On pourrait discuter cette répartition."
   ]
  },
  {
   "cell_type": "markdown",
   "id": "7517a758",
   "metadata": {},
   "source": [
    "## Quantification des cartes solutions de la Fresqu'Aéro\n",
    "\n",
    "Une quantification de chaque solution a été choisie comme suit :\n",
    "\n",
    "* **Allouer un budget carbone** et **Réglementation et mesures économiques** n'ont pas encore été inclue, et attendent un modèle coût-demande approprié à AeroMAPS.\n",
    "* **Sobriété** : la croissance de la demande est revue à 2% par an pour toutes les distances (choix arbitraire, pour comparaison, le GMF2019 prévoyait 4,3% de croissance, revue à 3,3% dans le GMF2024).\n",
    "* **Compensation des émissions** : 10% des émissions résiduelles par rapport à la neutralité sont compensées (Waypoint 2050, moyenne des scénarios, ATAG).\n",
    "* **Nouveaux vecteurs énergétiques** : la plannification de ReFuelEU est respectée et étendue au monde entier. Elle différencie bioSAF et eSAF, et porte leur part à 37.5% chacun en 2050, avec des points de passage intermédiaires et progressifs.\n",
    "* **Report modal** : 2% de croissance en moins sur le court-courrier, peut se cumuler avec la sobriété.\n",
    "* **Efficacité des opérations** : Les opérations au sol et en vol font gagner environ 10% d'efficacité en 2050, et le load factor atteint 90% sur la période (Waypoint 2050, scénario 1, ATAG).\n",
    "* **Technologie** L'amélioration incrémentale technologique est de 1% par an, et l'avion à hydrogène arrive sur le marché court-courrier en 2035 (ambition d'Airbus ZEROe).\n",
    "\n",
    "Ces choix reflètent des tendances possibles mais sont largement discutables. Par exemple, le choix de la technologie pourrait être dissocié entre technologie disruptive et amélioration incrémentale, la sobriété n'influe peut-être pas de la même manière sur toutes les distances, etc. \n",
    "\n",
    "**Il faut donc garder en tête que cette simulation n'est que partielle, et grossière. Elle donne une idée des chiffres envisageables derrière les cartes, et leur portée, mais est loin d'inclure toutes les nuances existantes.**\n",
    "\n",
    "**De plus, certains aspects ne sont pas traités : notamment les aspects sociaux, l'impact économique des mesures, les investissements et leur chronologie nécessaires à certaines solutions, ou encore les dynamiques et volontés différentes entre régions du monde.**"
   ]
  },
  {
   "cell_type": "code",
   "execution_count": 1,
   "id": "bd7d1bc4",
   "metadata": {
    "scrolled": false
   },
   "outputs": [
    {
     "data": {
      "application/vnd.jupyter.widget-view+json": {
       "model_id": "dce59f8b4aea44d4889c12498207e158",
       "version_major": 2,
       "version_minor": 0
      },
      "text/plain": [
       "GridspecLayout(children=(AppLayout(children=(VBox(children=(Checkbox(value=False, description='mode 2 groupes'…"
      ]
     },
     "execution_count": 1,
     "metadata": {},
     "output_type": "execute_result"
    }
   ],
   "source": [
    "%run run_graph_v2.ipynb\n",
    "grid"
   ]
  },
  {
   "cell_type": "code",
   "execution_count": null,
   "id": "4b5dd7db",
   "metadata": {},
   "outputs": [],
   "source": []
  }
 ],
 "metadata": {
  "kernelspec": {
   "display_name": "Python 3 (ipykernel)",
   "language": "python",
   "name": "python3"
  },
  "language_info": {
   "codemirror_mode": {
    "name": "ipython",
    "version": 3
   },
   "file_extension": ".py",
   "mimetype": "text/x-python",
   "name": "python",
   "nbconvert_exporter": "python",
   "pygments_lexer": "ipython3",
   "version": "3.10.9"
  }
 },
 "nbformat": 4,
 "nbformat_minor": 5
}
