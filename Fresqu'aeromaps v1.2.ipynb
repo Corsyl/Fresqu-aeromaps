{
 "cells": [
  {
   "cell_type": "markdown",
   "id": "a84b2401",
   "metadata": {},
   "source": [
    "# Fresqu'AéroMAPS - outil de simulation des choix de solution\n",
    "\n",
    "### Ce notebook a pour but de simuler les choix des différnets groupes de l'atelier lors de la partie finale de l'atelier Fresqu'aéro. Il se repose sur l'outil AéroMAPS :\n",
    "\n",
    "\n",
    "### Planès, T., Delbecq, S., Salgas, A. (2023). AeroMAPS: a framework for performing multidisciplinary assessment of prospective scenarios for air transport. Submitted to Journal of Open Aviation Science.\n",
    "\n",
    "Pour être sûr que les graphiques sont cohérents avec les choix des groupes, n'oubliez pas d'exécuter les cellules dans l'ordre, et de ré-exécuter les cellules en aval à chaque modification ! "
   ]
  },
  {
   "cell_type": "markdown",
   "id": "c802a03d",
   "metadata": {},
   "source": [
    "## Quelques chiffres importants pour comprendre le scénario de référence\n",
    "\n",
    "Les résultats des groupes seront ensuite comparés avec un scénario de référence, qui correspond à la tendance actuelle de l'industrie. Quantitativement, les chiffres veinnent notamment du scénario Airbus :\n",
    "\n",
    "* La croissance du trafic est de 3% par an, constante.\n",
    "* Le renouvellement de la flotte a une période de 20 ans.\n",
    "* L'hydrogène arrive sur le marché en 2035, sur le court courrier.\n",
    "* Le déploiement des SAFs respectent le plan ReFuelEU, avec notamment 35% de bioSAF + 35% de eSAF en 2050.\n",
    "* Les flight operations font gagner environ 8% d'effciacité finale en 2050.\n",
    "* L'amélioration incrémentale technologique ets de 0,5% par an.\n",
    "* L'allocation des ressources pour l'aérien est conservé par rapport à l'actuel."
   ]
  },
  {
   "cell_type": "markdown",
   "id": "2eaf9b34",
   "metadata": {},
   "source": [
    "## Mode d'emploi\n",
    "\n",
    "Il suffit d'exécuter la cellule de code ci-dessous. Elle prend quelques minutes à se mettre en place, il est préférable de la lancer pendant la réflexion des joueurs, pour éviter de les faire attendre ensuite. \n",
    "Ensuite, si vous avez plus d'un groupe, choisissez le mode 2 ou 3 groupes grâce aux cases à cocher. Pas de panique, elles n'affectent pas encore l'affichage. \n",
    "Puis cohez les choix de cartes pour chaque groupes.\n",
    "Et enfin appuyez sur le bouton \"Update\" pour afficher les changements sur les différents graphiques. Le calcul peut prendre un peu de temps.\n"
   ]
  },
  {
   "cell_type": "code",
   "execution_count": 2,
   "id": "bd7d1bc4",
   "metadata": {
    "scrolled": false
   },
   "outputs": [
    {
     "data": {
      "application/vnd.jupyter.widget-view+json": {
       "model_id": "6b01edd51db940e79d25c00b9f3c420a",
       "version_major": 2,
       "version_minor": 0
      },
      "text/plain": [
       "GridspecLayout(children=(AppLayout(children=(VBox(children=(Checkbox(value=False, description='mode 2 groupes'…"
      ]
     },
     "execution_count": 2,
     "metadata": {},
     "output_type": "execute_result"
    }
   ],
   "source": [
    "%run run_graph.ipynb\n",
    "grid"
   ]
  },
  {
   "cell_type": "code",
   "execution_count": null,
   "id": "4b5dd7db",
   "metadata": {},
   "outputs": [],
   "source": []
  }
 ],
 "metadata": {
  "kernelspec": {
   "display_name": "Python 3 (ipykernel)",
   "language": "python",
   "name": "python3"
  },
  "language_info": {
   "codemirror_mode": {
    "name": "ipython",
    "version": 3
   },
   "file_extension": ".py",
   "mimetype": "text/x-python",
   "name": "python",
   "nbconvert_exporter": "python",
   "pygments_lexer": "ipython3",
   "version": "3.10.9"
  }
 },
 "nbformat": 4,
 "nbformat_minor": 5
}
